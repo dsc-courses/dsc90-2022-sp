{
 "cells": [
  {
   "cell_type": "markdown",
   "id": "dc2e2c8b",
   "metadata": {},
   "source": [
    "# Lecture 9 – Data Science, Conclusion\n",
    "\n",
    "## History of Data Science, Spring 2022"
   ]
  },
  {
   "cell_type": "code",
   "execution_count": 5,
   "id": "bfaf7489",
   "metadata": {},
   "outputs": [],
   "source": [
    "import pandas as pd\n",
    "import numpy as np\n",
    "import matplotlib.pyplot as plt"
   ]
  },
  {
   "cell_type": "markdown",
   "id": "289742ec",
   "metadata": {},
   "source": [
    "## PageRank"
   ]
  },
  {
   "cell_type": "code",
   "execution_count": 6,
   "id": "bc5bdeb2",
   "metadata": {},
   "outputs": [],
   "source": [
    "A = np.array([[0, 1/2, 1/2, 1/3],\n",
    "              [1, 0, 0, 1/3],\n",
    "              [0, 0, 0, 1/3],\n",
    "              [0, 1/2, 1/2, 0]])"
   ]
  },
  {
   "cell_type": "markdown",
   "id": "962e0cf8",
   "metadata": {},
   "source": [
    "### Method 1 – Using eigenvalues and eigenvectors"
   ]
  },
  {
   "cell_type": "code",
   "execution_count": 7,
   "id": "e664196f",
   "metadata": {},
   "outputs": [
    {
     "data": {
      "text/plain": [
       "array([ 1.00000000e+00, -7.88675135e-01, -2.11324865e-01, -2.33583093e-17])"
      ]
     },
     "execution_count": 7,
     "metadata": {},
     "output_type": "execute_result"
    }
   ],
   "source": [
    "np.linalg.eigvals(A)"
   ]
  },
  {
   "cell_type": "code",
   "execution_count": 8,
   "id": "90b6d07d",
   "metadata": {},
   "outputs": [
    {
     "data": {
      "text/plain": [
       "array([-0.56011203, -0.70014004, -0.14002801, -0.42008403])"
      ]
     },
     "execution_count": 8,
     "metadata": {},
     "output_type": "execute_result"
    }
   ],
   "source": [
    "steady_state = np.linalg.eig(A)[1][:, 0]\n",
    "steady_state"
   ]
  },
  {
   "cell_type": "code",
   "execution_count": 9,
   "id": "ee24ac36",
   "metadata": {},
   "outputs": [
    {
     "data": {
      "text/plain": [
       "array([-0.56011203, -0.70014004, -0.14002801, -0.42008403])"
      ]
     },
     "execution_count": 9,
     "metadata": {},
     "output_type": "execute_result"
    }
   ],
   "source": [
    "A @ steady_state"
   ]
  },
  {
   "cell_type": "markdown",
   "id": "e88c81c1",
   "metadata": {},
   "source": [
    "To normalize so that `steady_state` sums to 1:"
   ]
  },
  {
   "cell_type": "code",
   "execution_count": 10,
   "id": "beeb1461",
   "metadata": {},
   "outputs": [
    {
     "data": {
      "text/plain": [
       "array([0.30769231, 0.38461538, 0.07692308, 0.23076923])"
      ]
     },
     "execution_count": 10,
     "metadata": {},
     "output_type": "execute_result"
    }
   ],
   "source": [
    "steady_state = steady_state / steady_state.sum()\n",
    "steady_state"
   ]
  },
  {
   "cell_type": "markdown",
   "id": "c4d5b81d",
   "metadata": {},
   "source": [
    "### Method 2 – Using iteration"
   ]
  },
  {
   "cell_type": "code",
   "execution_count": 11,
   "id": "8c8f09fb",
   "metadata": {},
   "outputs": [
    {
     "data": {
      "text/plain": [
       "array([0.25, 0.25, 0.25, 0.25])"
      ]
     },
     "execution_count": 11,
     "metadata": {},
     "output_type": "execute_result"
    }
   ],
   "source": [
    "x = (1/4) * np.ones(4)\n",
    "x"
   ]
  },
  {
   "cell_type": "code",
   "execution_count": 12,
   "id": "7f6aee63",
   "metadata": {},
   "outputs": [],
   "source": [
    "steps = 0\n",
    "while True:\n",
    "    x = A @ x\n",
    "    steps += 1\n",
    "    diff = np.linalg.norm(x - steady_state)\n",
    "    if diff < 0.0001:\n",
    "        break"
   ]
  },
  {
   "cell_type": "code",
   "execution_count": 13,
   "id": "c6a0f453",
   "metadata": {},
   "outputs": [
    {
     "data": {
      "text/plain": [
       "array([0.30766208, 0.38467584, 0.07694521, 0.23071687])"
      ]
     },
     "execution_count": 13,
     "metadata": {},
     "output_type": "execute_result"
    }
   ],
   "source": [
    "x"
   ]
  },
  {
   "cell_type": "code",
   "execution_count": 14,
   "id": "0b16fbda",
   "metadata": {},
   "outputs": [
    {
     "data": {
      "text/plain": [
       "28"
      ]
     },
     "execution_count": 14,
     "metadata": {},
     "output_type": "execute_result"
    }
   ],
   "source": [
    "steps"
   ]
  },
  {
   "cell_type": "markdown",
   "id": "683732fd",
   "metadata": {},
   "source": [
    "Note that `x` is now very close to `steady_state`!"
   ]
  },
  {
   "cell_type": "markdown",
   "id": "0fab6d72",
   "metadata": {},
   "source": [
    "### Method 3 – Using `matrix_power`"
   ]
  },
  {
   "cell_type": "code",
   "execution_count": 15,
   "id": "e70318d2",
   "metadata": {},
   "outputs": [],
   "source": [
    "x = (1 / 4) * np.ones(4)"
   ]
  },
  {
   "cell_type": "code",
   "execution_count": 19,
   "id": "ae1e0dea",
   "metadata": {},
   "outputs": [
    {
     "data": {
      "text/plain": [
       "array([0.30767351, 0.38465299, 0.07693684, 0.23073666])"
      ]
     },
     "execution_count": 19,
     "metadata": {},
     "output_type": "execute_result"
    }
   ],
   "source": [
    "np.linalg.matrix_power(A, 30) @ x"
   ]
  },
  {
   "cell_type": "markdown",
   "id": "27450259",
   "metadata": {},
   "source": [
    "Note that `np.linalg.matrix_power(A, 30)` is not the same as `A ** 30`!"
   ]
  },
  {
   "cell_type": "code",
   "execution_count": 20,
   "id": "a97a6b7f",
   "metadata": {},
   "outputs": [
    {
     "data": {
      "text/plain": [
       "array([[0.30791793, 0.30751436, 0.30751436, 0.30774736],\n",
       "       [0.38416414, 0.38497127, 0.38497127, 0.38450527],\n",
       "       [0.07675791, 0.07705334, 0.07705334, 0.07688277],\n",
       "       [0.23116002, 0.23046102, 0.23046102, 0.23086459]])"
      ]
     },
     "execution_count": 20,
     "metadata": {},
     "output_type": "execute_result"
    }
   ],
   "source": [
    "np.linalg.matrix_power(A, 30)"
   ]
  },
  {
   "cell_type": "code",
   "execution_count": 21,
   "id": "bc0961fd",
   "metadata": {},
   "outputs": [
    {
     "data": {
      "text/plain": [
       "array([[0.00000000e+00, 9.31322575e-10, 9.31322575e-10, 4.85693575e-15],\n",
       "       [1.00000000e+00, 0.00000000e+00, 0.00000000e+00, 4.85693575e-15],\n",
       "       [0.00000000e+00, 0.00000000e+00, 0.00000000e+00, 4.85693575e-15],\n",
       "       [0.00000000e+00, 9.31322575e-10, 9.31322575e-10, 0.00000000e+00]])"
      ]
     },
     "execution_count": 21,
     "metadata": {},
     "output_type": "execute_result"
    }
   ],
   "source": [
    "A ** 30"
   ]
  }
 ],
 "metadata": {
  "kernelspec": {
   "display_name": "Python 3 (ipykernel)",
   "language": "python",
   "name": "python3"
  },
  "language_info": {
   "codemirror_mode": {
    "name": "ipython",
    "version": 3
   },
   "file_extension": ".py",
   "mimetype": "text/x-python",
   "name": "python",
   "nbconvert_exporter": "python",
   "pygments_lexer": "ipython3",
   "version": "3.9.7"
  }
 },
 "nbformat": 4,
 "nbformat_minor": 5
}
