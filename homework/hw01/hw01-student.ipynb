{
 "cells": [
  {
   "cell_type": "markdown",
   "id": "e52cbd6a",
   "metadata": {},
   "source": [
    "# Homework 1\n",
    "\n",
    "## History of Data Science, Spring 2022\n",
    "\n",
    "### Due Sunday, April 3rd at 11:59PM"
   ]
  },
  {
   "cell_type": "markdown",
   "id": "406e0b87",
   "metadata": {},
   "source": [
    "**Welcome to your first DSC 90 homework!** Homeworks in DSC 90 are designed to have you engage with the week’s content. They will rely on you having completed the readings.\n",
    "\n",
    "Homeworks in DSC 90 are distributed via Jupyter Notebooks. They contain a mix of reflection, mathematical, and programming questions. You will always submit your homework as a **PDF**, not a Jupyter Notebook. **For math and written questions, include your answer and all of your work in your PDF. For coding questions, include screenshots of your code and all outputs in your PDF.**\n",
    "\n",
    "We encourage you to discuss the readings and questions with others in the course, but all work must be your own. Remember to use Slack if you need guidance!"
   ]
  },
  {
   "cell_type": "markdown",
   "id": "65125b0b",
   "metadata": {},
   "source": [
    "## Question 1\n",
    "\n",
    "For both subparts, we're expecting 3-4 sentences.\n",
    "\n",
    "### Question 1.1\n",
    "\n",
    "According to Donoho, in \"The Future of Data Analysis\", John Tukey stated that the science of data analysis is being shaped by four factors. In your own words, what are those four factors? \n",
    "\n",
    "### Question 1.2\n",
    "\n",
    "Based on your current understanding, describe how the field of data science is different than the field of statistics."
   ]
  },
  {
   "cell_type": "markdown",
   "id": "b50387e3",
   "metadata": {},
   "source": [
    "## Question 2\n",
    "\n",
    "**Disclaimer:** This question looks long, but the amount of work you'll have to do is relatively minimal.\n",
    "\n",
    "Archimedes' approximation for the value of $\\pi$ used the fact that the ratio between the circumference of a circle and the diameter of that circle is constant.\n",
    "\n",
    "Suppose we are given that $\\pi$ is also equal to the ratio between the **area** of a circle and the **square of the radius of that circle**. (This is not a trivial fact, but we will use it without proof for now.) What if we try to estimate $\\pi$ using this fact, instead? That is, what if we inscribe regular polygons with more and more sides inside a circle with radius $r = 1$, and estimate $\\pi$ with\n",
    "\n",
    "$$\\pi \\approx \\frac{\\text{Area of regular n-gon}}{r^2} = \\text{Area of regular n-gon}$$\n",
    "\n",
    "(The term \"$n$-gon\" refers to a polygon with $n$ sides.)\n",
    "\n",
    "Intuitively, as our inscribed polygon has more and more sides, it looks more and more like a circle, so its area should approach the area of the circle. (This is not a fully rigorous argument, but it will suffice for our purposes.)\n",
    "\n",
    "Recall from lecture, if $s_1$ is the side length of a regular $n$-gon inscribed in a circle of radius 1 and $s_2$ is the side length of a regular $2n$-gon inscribed in the same circle, then\n",
    "\n",
    "$$s_2 = \\sqrt{\\left(\\frac{s_1}{2}\\right)^2 + \\left( 1 - \\sqrt{1 - \\left(\\frac{s_1}{2}\\right)^2} \\right)^2}$$\n",
    "\n",
    "(This formula is implemented by `next_sidelength(s)` in the code for this week's lecture.)\n",
    "\n",
    "Since we already have this formula, we're already able to calculate the side length of a regular $n$-gon for any value of $n$ in the sequence (6, 12, 24, 48, 96, 192, ...), which are the same polygons we'll continue to look at. \n",
    "\n",
    "Now, let's switch our focus to calculating the area of a given inscribed $n$-gon. Let's supppose our $n$-gon has side length $s$. Then, one way to calculate its area is to split the $n$-gon into $n$ isoceles triangles, each of which have two sides of length $r = 1$ and one side of length $s$. What we then need to do is find the area of one of these isoceles triangles and multiply it by $n$.\n",
    "\n",
    "<div align=center>\n",
    "<img src='data/hw01-area.jpg' width=450>\n",
    "</div>\n",
    "\n",
    "In the image above, the blue polygon is a dodecagon, a regular polygon with 12 sides. If we find the area of triangle OAB and multiply it by 12, we'll get the area of the dodecagon. (Similarly, if we found the area of the orange triangle and multiplied it by 24, we'd get the area of the inscribed 24-sided polygon. Note that the orange triangle also has two sides of length 1.)\n",
    "\n",
    "To find the area of triangle OAB, we need to multiply its base (which we know to be 1) by its height, which we've denoted as $h$ in the diagram above, and divide the result by 2. Our problem now lies in determining what $h$ is, in terms of $s$. (Remember, for any value of $n$, we can find $s$ using `next_sidelength` repeatedly.)"
   ]
  },
  {
   "cell_type": "markdown",
   "id": "36352d2e",
   "metadata": {},
   "source": [
    "### Question 2.1\n",
    "\n",
    "Use the above diagram and the Pythagorean Theorem to find two equations that involve some or all of $h$, $c$, and $s$, and show that\n",
    "\n",
    "$$h = \\sqrt{1 - \\left( 1 - \\frac{s^2}{2} \\right)^2}$$\n",
    "\n",
    "Show your work.\n",
    "\n",
    "***Note:*** This is a math question."
   ]
  },
  {
   "cell_type": "markdown",
   "id": "0c88cf78",
   "metadata": {},
   "source": [
    "### Question 2.2\n",
    "\n",
    "Below we've copied the implementations of `next_sidelength` and `pi_estimate` from lecture."
   ]
  },
  {
   "cell_type": "code",
   "execution_count": null,
   "id": "d83d391c",
   "metadata": {},
   "outputs": [],
   "source": [
    "import numpy as np"
   ]
  },
  {
   "cell_type": "code",
   "execution_count": null,
   "id": "177d5723",
   "metadata": {},
   "outputs": [],
   "source": [
    "def next_sidelength(s):\n",
    "    '''Computes the sidelength of a regular 2n-sided polygon inscribed in a circle,\n",
    "       given the sidelength of a regular n-sided polygon inscribed in that circle\n",
    "    '''\n",
    "    a = (1 - (s / 2) ** 2) ** 0.5\n",
    "    new_s_squared = (s / 2) ** 2 + (1 - a) ** 2\n",
    "    return new_s_squared ** 0.5\n",
    "\n",
    "def pi_estimate(s, n):\n",
    "    '''Computes an estimate of pi by dividing the perimeter of an inscribed n-sided polygon by\n",
    "       the diameter of the circle it is inscribed in (2).\n",
    "    '''\n",
    "    return s * n / 2"
   ]
  },
  {
   "cell_type": "markdown",
   "id": "5bdc992a",
   "metadata": {},
   "source": [
    "#### Question 2.2.1\n",
    "\n",
    "Complete the implementation of the function `height`, which takes in a value of $s$ and implements the relationship between $h$ and $s$ we found in 2.1.\n",
    "\n",
    "***Check:*** `height(1)` should return approximately `0.86602540378`. (The exact value of this is $\\frac{\\sqrt{3}}{2}$.)"
   ]
  },
  {
   "cell_type": "code",
   "execution_count": null,
   "id": "a27056a0",
   "metadata": {},
   "outputs": [],
   "source": [
    "def height(s):\n",
    "    ...\n",
    "\n",
    "height(1)"
   ]
  },
  {
   "cell_type": "markdown",
   "id": "b1991c71",
   "metadata": {},
   "source": [
    "#### Question 2.2.2\n",
    "\n",
    "Complete the implementation of the function `pi_estimate_area`, which takes in a value of $h$ (as defined above) and $n$ (the number of sides) and returns the area of the inscribed regular $n$-gon. The body of your function should only be one relatively straightforward line of code.\n",
    "\n",
    "***Check:*** `pi_estimate_area(height(1), 6)` should return approximately `2.5980762113`. This is computing the area of a regular hexagon with side length 1; the exact value of this is $\\frac{3 \\sqrt{3}}{2}$."
   ]
  },
  {
   "cell_type": "code",
   "execution_count": null,
   "id": "927cde4d",
   "metadata": {},
   "outputs": [],
   "source": [
    "def pi_estimate_area(h, n):\n",
    "    '''Remember, the area of a single triangle is (base * height / 2).\n",
    "       Each triangle OAB in our n-gon has base 1 and height h, so the area of one triangle is h / 2.\n",
    "       Our n-gon is made up of n triangles.\n",
    "    '''\n",
    "    ...\n",
    "\n",
    "pi_estimate_area(height(1), 6)"
   ]
  },
  {
   "cell_type": "markdown",
   "id": "b88d8d3b",
   "metadata": {},
   "source": [
    "If you implemented `height` and `pi_estimate_area` correctly, the following cell should print out estimates of $\\pi$ using the areas of inscribed polygons rather than the perimeters of inscribed polygons."
   ]
  },
  {
   "cell_type": "code",
   "execution_count": null,
   "id": "9ac44712",
   "metadata": {},
   "outputs": [],
   "source": [
    "s = 1\n",
    "n = 6\n",
    "\n",
    "for _ in range(20):\n",
    "    # Compute the height of the triangle for a given sidelength\n",
    "    h = height(s)\n",
    "    \n",
    "    # Print the current estimate\n",
    "    print(f'An estimate of pi using a {n}-sided polygon:', pi_estimate_area(h, n))\n",
    "    \n",
    "    # Update s and n\n",
    "    s = next_sidelength(s)\n",
    "    n *= 2"
   ]
  },
  {
   "cell_type": "markdown",
   "id": "4a41a1a2",
   "metadata": {},
   "source": [
    "**In your PDF writeup, provide a screenshot of all of the code you wrote and the output of the new `for`-loop.**"
   ]
  },
  {
   "cell_type": "markdown",
   "id": "c25e7a32",
   "metadata": {},
   "source": [
    "### Question 2.3\n",
    "\n",
    "Which method seems like it converges to $\\pi$ quicker – the method based on perimeters, or the method based on areas? Include a one-sentence response in your PDF writeup."
   ]
  },
  {
   "cell_type": "markdown",
   "id": "2f25e708",
   "metadata": {},
   "source": [
    "## Question 3\n",
    "\n",
    "**After** finishing Questions 1 and 2, but before submitting the homework, please fill out [this **anonymous** survey](https://docs.google.com/forms/d/e/1FAIpQLScqvN0065NC5rfg6JmIQfgqVZcpMh1JjLIwIfzQyRH3bWviNA/viewform). Once you submit the survey, it'll show you a secret word. Write that secret word in your PDF as the answer to Question 3. Thanks!"
   ]
  },
  {
   "cell_type": "markdown",
   "id": "d421b375",
   "metadata": {},
   "source": [
    "## (Optional) Question 4\n",
    "\n",
    "Run the following cell and watch the resulting video."
   ]
  },
  {
   "cell_type": "code",
   "execution_count": null,
   "id": "217b1824",
   "metadata": {},
   "outputs": [],
   "source": [
    "from IPython.display import YouTubeVideo\n",
    "YouTubeVideo('DLZMZ-CT7YU')"
   ]
  },
  {
   "cell_type": "markdown",
   "id": "e995e971",
   "metadata": {},
   "source": [
    "This video describes a process similar to the one we covered in class, but with a few key differences. What are the differences between this approach and the approach from class? Do you think this approach is historically accurate (i.e. could this have been the approach Archimedes used)?\n",
    "\n",
    "If you answer this question, assign it to Question 3 on Gradescope when matching pages."
   ]
  }
 ],
 "metadata": {
  "kernelspec": {
   "display_name": "Python 3 (ipykernel)",
   "language": "python",
   "name": "python3"
  },
  "language_info": {
   "codemirror_mode": {
    "name": "ipython",
    "version": 3
   },
   "file_extension": ".py",
   "mimetype": "text/x-python",
   "name": "python",
   "nbconvert_exporter": "python",
   "pygments_lexer": "ipython3",
   "version": "3.9.7"
  }
 },
 "nbformat": 4,
 "nbformat_minor": 5
}
