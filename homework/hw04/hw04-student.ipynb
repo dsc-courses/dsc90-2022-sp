{
 "cells": [
  {
   "cell_type": "markdown",
   "id": "38f79029",
   "metadata": {},
   "source": [
    "# Homework 4\n",
    "\n",
    "## History of Data Science, Spring 2022\n",
    "\n",
    "### Due Sunday, April 24th at 11:59PM\n",
    "\n",
    "Homeworks in DSC 90 are designed to have you engage with the week’s content. They will rely on you having completed the readings.\n",
    "\n",
    "Homeworks in DSC 90 are distributed via Jupyter Notebooks. They contain a mix of reflection, mathematical, and programming questions. You will always submit your homework as a **PDF**, not a Jupyter Notebook. **For math and written questions, include your answer and all of your work in your PDF. For coding questions, include screenshots of your code and all outputs in your PDF.**\n",
    "\n",
    "We encourage you to discuss the readings and questions with others in the course, but all work must be your own. Remember to use Slack if you need guidance!"
   ]
  },
  {
   "cell_type": "code",
   "execution_count": null,
   "id": "ed11fcaa",
   "metadata": {},
   "outputs": [],
   "source": [
    "import pandas as pd\n",
    "import numpy as np"
   ]
  },
  {
   "cell_type": "markdown",
   "id": "ad887555",
   "metadata": {},
   "source": [
    "## Question 0\n",
    "\n",
    "The Data Science Student Representatives created a survey for you to voice your opinion about what you love in DSC 90, and how we can improve the class and the department!\n",
    "\n",
    "Feel free to talk about the topics covered in this course, the quality of the lectures, homeworks, and readings, and anything else you feel is relevant and constructive. As you know, this is a new class – it is our second time offering it – and we'd really appreciate any constructive feedback.\n",
    "\n",
    "Please [click here](https://docs.google.com/forms/d/e/1FAIpQLSe_nTL0hLo7GjM1EVe4k8Lg5HvD3__B9x4T0-BCQsXmMafeaA/viewform) to complete the survey. If you aren't able to access it, make sure you're logged into your UCSD Google account."
   ]
  },
  {
   "cell_type": "markdown",
   "id": "85d8c3b1",
   "metadata": {},
   "source": [
    "## Question 1\n",
    "\n",
    "Karl Pearson, one of Galton's disciples and collaborators, created a journal that is today known as the Annals of Human Genetics.\n",
    "- What was the journal originally known as?\n",
    "- What was the subtitle of the journal? What is the significance of that subtitle?\n",
    "- Why was the name of the journal eventually changed?"
   ]
  },
  {
   "cell_type": "markdown",
   "id": "269e6c93",
   "metadata": {},
   "source": [
    "## Question 2\n",
    "\n",
    "**Note:** To submit your work for this question, provide screenshots of **all** of the code you wrote and **all** of the outputs of your code in your PDF writeup.\n",
    "\n",
    "In this question, we'll write our own implementation of Galton's method of percentiles for binned data.\n",
    "\n",
    "Let's use Galton's pauperism data from lecture. \n",
    "\n",
    "<img src='data/galton-table.png' width=500>\n",
    "\n",
    "Run the cell below to load it in as a DataFrame."
   ]
  },
  {
   "cell_type": "code",
   "execution_count": null,
   "id": "1eeb3e2e",
   "metadata": {},
   "outputs": [],
   "source": [
    "pauper_df = pd.DataFrame().assign(\n",
    "    bins=np.arange(1.75, 11.25, 0.5),\n",
    "    counts=[7, 7, 11, 21, 28, 33, 46, 55, 40, 45, 44, 35, 44, 31, 27, 34, 21, 11, 50]\n",
    ")"
   ]
  },
  {
   "cell_type": "code",
   "execution_count": null,
   "id": "7339839f",
   "metadata": {},
   "outputs": [],
   "source": [
    "pauper_df"
   ]
  },
  {
   "cell_type": "markdown",
   "id": "6ea69400",
   "metadata": {},
   "source": [
    "The values in the `'bins'` column are right endpoints. For instance, row 3 tells us that there are 21 values between 2.75 and 3.25.\n",
    "\n",
    "There are a few minor differences between the data in Galton's table and the DataFrame above:\n",
    "- The final bin – \"above 10.25\" – is replaced with a 10.25 to 10.75 bin. The first bin is still \"under 1.75\".\n",
    "- The count in the final bin was 48 in lecture but is replaced with 50 here. This is so that the total number of data points (590) is an integer multiple of 10; this will be relevant in Question 2.2."
   ]
  },
  {
   "cell_type": "markdown",
   "id": "ebd04b58",
   "metadata": {},
   "source": [
    "### Question 2.1\n",
    "\n",
    "Below, complete the implementation of the function `add_cumulative`, which takes in a DataFrame formatted the same way as `pauper_df` (i.e. with a `'bins'` column and `'counts'` column) and returns a DataFrame with a third column, `'cumulative_counts'`, containing the total number of observations **in or before** each bin. The function `np.cumsum` may be helpful here.\n",
    "\n",
    "If you implement `add_cumulative` correctly, the first few rows of `add_cumulative(pauper_df)` should look like this:\n",
    "\n",
    "<table border=\"1\" class=\"dataframe\">\n",
    "  <thead>\n",
    "    <tr style=\"text-align: right;\">\n",
    "      <th></th>\n",
    "      <th>bins</th>\n",
    "      <th>counts</th>\n",
    "      <th>cumulative_counts</th>\n",
    "    </tr>\n",
    "  </thead>\n",
    "  <tbody>\n",
    "    <tr>\n",
    "      <th>0</th>\n",
    "      <td>1.75</td>\n",
    "      <td>7</td>\n",
    "      <td>7</td>\n",
    "    </tr>\n",
    "    <tr>\n",
    "      <th>1</th>\n",
    "      <td>2.25</td>\n",
    "      <td>7</td>\n",
    "      <td>14</td>\n",
    "    </tr>\n",
    "    <tr>\n",
    "      <th>2</th>\n",
    "      <td>2.75</td>\n",
    "      <td>11</td>\n",
    "      <td>25</td>\n",
    "    </tr>\n",
    "    <tr>\n",
    "      <th>3</th>\n",
    "      <td>3.25</td>\n",
    "      <td>21</td>\n",
    "      <td>46</td>\n",
    "    </tr>\n",
    "    <tr>\n",
    "      <th>4</th>\n",
    "      <td>3.75</td>\n",
    "      <td>28</td>\n",
    "      <td>74</td>\n",
    "    </tr>\n",
    "  </tbody>\n",
    "</table>\n",
    "\n",
    "**Make sure to include a screenshot of your implementation in your PDF writeup.**"
   ]
  },
  {
   "cell_type": "code",
   "execution_count": null,
   "id": "c810d28a",
   "metadata": {},
   "outputs": [],
   "source": [
    "def add_cumulative(df):\n",
    "    ..."
   ]
  },
  {
   "cell_type": "markdown",
   "id": "071b6a92",
   "metadata": {},
   "source": [
    "Once you've completed your implementation of `add_cumulative`, run the cell below."
   ]
  },
  {
   "cell_type": "code",
   "execution_count": null,
   "id": "7a541417",
   "metadata": {},
   "outputs": [],
   "source": [
    "add_cumulative(pauper_df)"
   ]
  },
  {
   "cell_type": "markdown",
   "id": "8c90ad28",
   "metadata": {},
   "source": [
    "### Question 2.2\n",
    "\n",
    "Percentiles, deciles, and quartiles are all special cases of **quantiles**. Percentiles divide data into 100 groups, deciles divide data into 10 groups, and quartiles divide data into 4 groups. As a result, there are 99 percentiles, 9 deciles, and 3 quartiles.\n",
    "\n",
    "Below, complete the implementation of the function `quantiles`, which takes in a DataFrame (again, formatted the same way as `pauper_df`) and a number of groups, and returns the corresponding quantiles as an array. For example, `quantiles(pauper_df, 10)` should return an array of the 1st, 2nd, 3rd, ..., 9th deciles (or equivalently, the 10th, 20th, 30th, ..., 90th percentiles).\n",
    "\n",
    "Note, this will require a significant amount of work – our implementation was ~16 lines. To make things simpler, you can assume that the number of data points in the input `df` is an integer multiple of `num_groups`. For example, `pauper_df` has 590 observations; when we call `quantiles(pauper, 10)` we're asking for estimates of the observations at positions 59, 118, ..., 531. (`np.arange` may be helpful here, as will the [DSC 10 reference sheet](https://drive.google.com/file/d/1mQApk9Ovdi-QVqMgnNcq5dZcWucUKoG-/view).)\n",
    "\n",
    "Make sure your function works for any dataset, not just `pauper_df`. In particular, if you're following the steps from Galton's table at the top of this notebook, replace 0.5 with a generic `bin_width` that is calculated from `df`.\n",
    "\n",
    "**Make sure to include a screenshot of your implementation in your PDF writeup.**"
   ]
  },
  {
   "cell_type": "code",
   "execution_count": null,
   "id": "fe269b6e",
   "metadata": {},
   "outputs": [],
   "source": [
    "def quantiles(df, num_groups):\n",
    "    ..."
   ]
  },
  {
   "cell_type": "markdown",
   "id": "6a1a4af1",
   "metadata": {},
   "source": [
    "Once you've completed your implementation of `quantiles`, run the cell below. **Make sure to include a screenshot of the output of the following cell in your PDF writeup.**"
   ]
  },
  {
   "cell_type": "code",
   "execution_count": null,
   "id": "4fbb13b5",
   "metadata": {},
   "outputs": [],
   "source": [
    "quantiles(pauper_df, 10)"
   ]
  },
  {
   "cell_type": "markdown",
   "id": "2b23308c",
   "metadata": {},
   "source": [
    "These numbers should be very close to the numbers in the far-right column in Galton's table, but not exactly equal. (Why are they not exactly equal?)\n",
    "\n",
    "To make sure your function works on other DataFrames, let's consider the heights dataset introduced in Slide 30 of Lecture 4.\n",
    "\n",
    "<img src='data/height-data.png' width=500>\n",
    "\n",
    "Run the cell below. If you did anything correctly, you should see an array with three elements, one of which is 61. **Make sure to include a screenshot of the output of the following cell in your PDF writeup.**"
   ]
  },
  {
   "cell_type": "code",
   "execution_count": null,
   "id": "b52f28c6",
   "metadata": {},
   "outputs": [],
   "source": [
    "height_df = pd.DataFrame().assign(\n",
    "    bins=[56, 60, 64, 68, 72, 76, 80],\n",
    "    counts=[4, 8, 12, 15, 12, 8, 1]\n",
    ")\n",
    "\n",
    "quantiles(height_df, 4)"
   ]
  },
  {
   "cell_type": "markdown",
   "id": "51d5fda0",
   "metadata": {},
   "source": [
    "Nice work!"
   ]
  },
  {
   "cell_type": "markdown",
   "id": "5e6d9afa",
   "metadata": {},
   "source": [
    "## Question 3\n",
    "\n",
    "This question introduces a bit of background that will be helpful in the coming week.\n",
    "\n",
    "Recall, in lecture we considered an example where we flipped a coin 10 times and saw the sequence HTTHTTTTTH. For an arbitrary bias $p$, the probability of that sequence is $p^3 (1-p)^7$. However, $p^3 (1-p)^7$ is **not** the probability of seeing 3 heads and 7 tails. To compute that, we'd need to consider all of the different orders in which we could see 3 heads and 7 tails – for example, HHHTTTTTTT, HTHTHTTTTT, etc. Each of these orderings has the same probability, $p^3 (1-p)^7$.\n",
    "\n",
    "So, $P(\\text{3 heads, 7 tails}) = (\\text{# of ways of flipping 3 heads and 7 tails}) \\cdot p^3 (1-p)^7$. As you will learn in DSC 40A (if you haven't already), the number of ways of flipping 3 heads and 7 tails is ${10 \\choose 3}$, pronounced \"10 choose 3\". If you're not familiar with this notation, watch [this video](https://www.youtube.com/watch?v=4j2mFGkvwWE) and [this video](https://www.youtube.com/watch?v=lR6FeO5Pgss).\n",
    "\n",
    "The general probability distribution we've discussed here is called the **binomial distribution**, which determines the probability of seeing $k$ successes in $n$ trials of an experiment in which each trial succeeds with probability $p$, independent of all other trials. It says that the probability of $k$ successes is\n",
    "\n",
    "$$P(\\text{$k$ successes}) = {n \\choose k} p^k (1-p)^{n-k}$$\n",
    "\n",
    "(Previously, $k = 3$, $n = 10$, and $p$ was unknown.)\n",
    "\n",
    "To make sure you're comfortable with the idea, answer the following question:\n",
    "\n",
    "Each time I call my grandma, she answers the phone with probability 0.6. I call her 5 times. What is more likely – her answering twice, or her answering four times? Find the probability of both events. Write out both answers symbolically, and then use a calculator to evaluate them as decimals. If you'd like to use this notebook to evaluate the result as a decimal, the function `comb(n, k)` in the Python package `scipy.special` (imported below) calculates ${n \\choose k}$."
   ]
  },
  {
   "cell_type": "code",
   "execution_count": null,
   "id": "541544e0",
   "metadata": {},
   "outputs": [],
   "source": [
    "from scipy.special import comb"
   ]
  },
  {
   "cell_type": "code",
   "execution_count": null,
   "id": "de6db2c2",
   "metadata": {},
   "outputs": [],
   "source": [
    "# 4 choose 2\n",
    "comb(4, 2)"
   ]
  }
 ],
 "metadata": {
  "kernelspec": {
   "display_name": "Python 3 (ipykernel)",
   "language": "python",
   "name": "python3"
  },
  "language_info": {
   "codemirror_mode": {
    "name": "ipython",
    "version": 3
   },
   "file_extension": ".py",
   "mimetype": "text/x-python",
   "name": "python",
   "nbconvert_exporter": "python",
   "pygments_lexer": "ipython3",
   "version": "3.9.7"
  }
 },
 "nbformat": 4,
 "nbformat_minor": 5
}
