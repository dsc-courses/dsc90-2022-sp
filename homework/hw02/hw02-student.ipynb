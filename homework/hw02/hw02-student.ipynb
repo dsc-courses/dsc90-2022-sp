{
 "cells": [
  {
   "cell_type": "markdown",
   "id": "e52cbd6a",
   "metadata": {},
   "source": [
    "# Homework 2\n",
    "\n",
    "## History of Data Science, Spring 2022\n",
    "\n",
    "### Due Sunday, April 10th at 11:59PM"
   ]
  },
  {
   "cell_type": "markdown",
   "id": "406e0b87",
   "metadata": {},
   "source": [
    "Homeworks in DSC 90 are designed to have you engage with the week’s content. They will rely on you having completed the readings.\n",
    "\n",
    "Homeworks in DSC 90 are distributed via Jupyter Notebooks. They contain a mix of reflection, mathematical, and programming questions. You will always submit your homework as a **PDF**, not a Jupyter Notebook. **For math and written questions, include your answer and all of your work in your PDF. For coding questions, include screenshots of your code and all outputs in your PDF.**\n",
    "\n",
    "We encourage you to discuss the readings and questions with others in the course, but all work must be your own. Remember to use Slack if you need guidance!"
   ]
  },
  {
   "cell_type": "markdown",
   "id": "6c287566",
   "metadata": {},
   "source": [
    "## Question 1\n",
    "\n",
    "Below in <span style=\"color:blue;\">blue</span> is the parabola $y = x^2$, and in <span style=\"color:red;\">red</span> is the line $y = 2x + 8$.\n",
    "\n",
    "<div align=center>\n",
    "\n",
    "<img src='data/hw02-parabola.png' width=250>\n",
    "\n",
    "</div>\n",
    "\n",
    "(a) **Without** using integration, determine the area between the given line and parabola.\n",
    "\n",
    "This will involve a few steps. First, you'll need to find the third point on the triangle that Archimedes specified in _Quadrature of the Parabola_. Some guiding questions:\n",
    "\n",
    "- What is the slope of the red line?\n",
    "- What is the slope of the tangent line to the parabola at any given point on the parabola? (What is the derivative of the parabola?)\n",
    "- At what point on the parabola is the slope of the tangent line equal to the slope of the red line?\n",
    "\n",
    "Once you've identified the third point, you can use [this online calculator](https://keisan.casio.com/exec/system/1223520411) to find the area of that triangle (unless you'd rather do it yourself for practice). Then, you should be able to use a result from class. Show all of your steps, and remember to ask for help if you need it.\n",
    "\n",
    "(b) If you're familiar with integration, compute the area between the given line and parabola using integration, and show that your answer is the same as your answer in part (a).\n",
    "\n",
    "(Note: If you know how to take an integral, you are expected to do this question.)"
   ]
  },
  {
   "cell_type": "markdown",
   "id": "bb536800",
   "metadata": {},
   "source": [
    "## Question 2\n",
    "\n",
    "Consider the function\n",
    "\n",
    "$$f(x) = x(48 - x^2)$$\n",
    "\n",
    "(a) Using Fermat's method of adequality, determine the value of $x$ that maximizes $f(x)$. Is this a local or global maximum? Show your work.\n",
    "\n",
    "(b) Using Fermat's method of adequality, determine the slope of the tangent line to $f(x)$ at $x = 1$. Verify that your answer is correct by finding $f'(x)$ and evaluating $f'(1)$. Show your work.\n",
    "\n",
    "(c) Repeat part (b), but at $x = 0$. What issue do you run into?"
   ]
  },
  {
   "cell_type": "markdown",
   "id": "b0d91505",
   "metadata": {},
   "source": [
    "## Question 3\n",
    "\n",
    "Show that Fermat's method for finding the slope of the tangent line is equivalent to\n",
    "\n",
    "$$\\text{slope} = \\frac{f(x+e) - f(x)}{e}$$\n",
    "\n",
    "Does the _quotient_ on the right look familiar – if so, what does it resemble?\n",
    "\n",
    "Hopefully, by answering this question, it is slightly more clear why Fermat's method of adequality involves dividing by $e$ and then setting $e$ to 0."
   ]
  },
  {
   "cell_type": "markdown",
   "id": "43bb05d9",
   "metadata": {},
   "source": [
    "## Question 4\n",
    "\n",
    "One aggregation strategy that was used centuries ago involved picking the number halfway between the smallest and largest numbers in a dataset. In today's terminology, we'd call this number the \"midrange\".\n",
    "\n",
    "$$\\text{Midrange} = \\frac{\\text{Max}(x) + \\text{Min}(x)}{2}$$\n",
    "\n",
    "For each of the following conditions, specify a set of 5 unique numbers that satisfies the given condition. In each case, compute the midrange and mean and show that the condition holds. Afterwards, give a one sentence answer to the question, \"for what kinds of datasets is the midrange close to the mean?\"\n",
    "\n",
    "(a) Midrange = mean\n",
    "\n",
    "(b) Midrange > mean\n",
    "\n",
    "(c) Midrange < mean"
   ]
  }
 ],
 "metadata": {
  "kernelspec": {
   "display_name": "Python 3 (ipykernel)",
   "language": "python",
   "name": "python3"
  },
  "language_info": {
   "codemirror_mode": {
    "name": "ipython",
    "version": 3
   },
   "file_extension": ".py",
   "mimetype": "text/x-python",
   "name": "python",
   "nbconvert_exporter": "python",
   "pygments_lexer": "ipython3",
   "version": "3.9.7"
  }
 },
 "nbformat": 4,
 "nbformat_minor": 5
}
