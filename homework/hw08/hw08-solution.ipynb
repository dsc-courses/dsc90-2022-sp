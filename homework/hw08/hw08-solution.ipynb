{
 "cells": [
  {
   "cell_type": "markdown",
   "id": "0228b4bd",
   "metadata": {},
   "source": [
    "# Homework 8\n",
    "\n",
    "## History of Data Science, Spring 2022\n",
    "\n",
    "### Due Sunday, May 22nd at 11:59PM\n",
    "\n",
    "Homeworks in DSC 90 are designed to have you engage with the week’s content. They will rely on you having completed the readings.\n",
    "\n",
    "Homeworks in DSC 90 are distributed via Jupyter Notebooks. They contain a mix of reflection, mathematical, and programming questions. You will always submit your homework as a **PDF**, not a Jupyter Notebook. **For math and written questions, include your answer and all of your work in your PDF. For coding questions, include screenshots of your code and all outputs in your PDF.**\n",
    "\n",
    "We encourage you to discuss the readings and questions with others in the course, but all work must be your own. Remember to use Slack if you need guidance!"
   ]
  },
  {
   "cell_type": "code",
   "execution_count": 1,
   "id": "59b4364a",
   "metadata": {},
   "outputs": [],
   "source": [
    "import pandas as pd\n",
    "import numpy as np\n",
    "from scipy.special import comb\n",
    "\n",
    "from polynomial import *"
   ]
  },
  {
   "cell_type": "markdown",
   "id": "34aad436",
   "metadata": {},
   "source": [
    "## Question 1 – Method of Finite Differences\n",
    "\n",
    "In this question, you will implement the method of finite differences to evaluate a third-degree polynomial on a range of inputs. This is what Charles Babbage's Difference Engine was designed to do.\n",
    "\n",
    "<img src='https://cdn.britannica.com/10/23610-050-6E34CF6B/portion-Difference-Engine-Charles-Babbage-logarithm-tables-1832.jpg' width=300>\n",
    "\n",
    "**Before proceeding, it's a good idea to re-watch the Lecture 8 recording, in which we evaluated a polynomial by writing out a table that followed the Difference Engine algorithm.**"
   ]
  },
  {
   "cell_type": "markdown",
   "id": "fd48416e",
   "metadata": {},
   "source": [
    "In this question, you will interface with the `Polynomial` class. (Look at `hw07/polynomial.py` if you're curious as to how it works.)\n",
    "\n",
    "Below, we create an example `Polynomial` object. To instantiate a `Polynomial`, you must provide a list of its coefficients. The first element in the list will be the constant term, the second element in the list will be the coefficient on $x$, the third element in the list will be the coefficient on $x^2$, and so on. (Note that this may be the reverse of what you'd expect.)"
   ]
  },
  {
   "cell_type": "code",
   "execution_count": 2,
   "id": "1176c2a5",
   "metadata": {},
   "outputs": [
    {
     "data": {
      "text/markdown": [
       "$1-2x+3x^2+4x^3$"
      ],
      "text/plain": [
       "Polynomial([ 1 -2  3  4])"
      ]
     },
     "execution_count": 2,
     "metadata": {},
     "output_type": "execute_result"
    }
   ],
   "source": [
    "p = Polynomial([1, -2, 3, 4])\n",
    "p"
   ]
  },
  {
   "cell_type": "markdown",
   "id": "a800b7a8",
   "metadata": {},
   "source": [
    "`Polynomial`s have two attributes – `coefs` and `deg`:"
   ]
  },
  {
   "cell_type": "code",
   "execution_count": 3,
   "id": "bc556153",
   "metadata": {},
   "outputs": [
    {
     "data": {
      "text/plain": [
       "array([ 1, -2,  3,  4])"
      ]
     },
     "execution_count": 3,
     "metadata": {},
     "output_type": "execute_result"
    }
   ],
   "source": [
    "p.coefs # The coefficients of the polynomial (from lowest degree to highest degree)"
   ]
  },
  {
   "cell_type": "code",
   "execution_count": 4,
   "id": "c6a676dc",
   "metadata": {},
   "outputs": [
    {
     "data": {
      "text/plain": [
       "3"
      ]
     },
     "execution_count": 4,
     "metadata": {},
     "output_type": "execute_result"
    }
   ],
   "source": [
    "p.deg # The degree of the polynomial"
   ]
  },
  {
   "cell_type": "markdown",
   "id": "196237ee",
   "metadata": {},
   "source": [
    "They also have a method, `as_function`, which is a higher-order function (which means it returns another function)."
   ]
  },
  {
   "cell_type": "code",
   "execution_count": 5,
   "id": "0ecc85b4",
   "metadata": {},
   "outputs": [
    {
     "data": {
      "text/plain": [
       "<function polynomial.Polynomial.as_function.<locals>.f(x)>"
      ]
     },
     "execution_count": 5,
     "metadata": {},
     "output_type": "execute_result"
    }
   ],
   "source": [
    "p_f = p.as_function()\n",
    "p_f"
   ]
  },
  {
   "cell_type": "markdown",
   "id": "9cb2d60b",
   "metadata": {},
   "source": [
    "`p_f` is now a regular Python function, that can be used to evaluate the polynomial $p(x) = 1 - 2x + 3x^2 + 4x^3$ for any input. For example, $p(1)$ and $p(-4)$ are given by:"
   ]
  },
  {
   "cell_type": "code",
   "execution_count": 6,
   "id": "e5c7d17e",
   "metadata": {},
   "outputs": [
    {
     "data": {
      "text/plain": [
       "6"
      ]
     },
     "execution_count": 6,
     "metadata": {},
     "output_type": "execute_result"
    }
   ],
   "source": [
    "p_f(1)"
   ]
  },
  {
   "cell_type": "code",
   "execution_count": 7,
   "id": "8abe917f",
   "metadata": {},
   "outputs": [
    {
     "data": {
      "text/plain": [
       "-199"
      ]
     },
     "execution_count": 7,
     "metadata": {},
     "output_type": "execute_result"
    }
   ],
   "source": [
    "p_f(-4)"
   ]
  },
  {
   "cell_type": "markdown",
   "id": "a2ea0c09",
   "metadata": {},
   "source": [
    "**Your Job:** Complete the implementation of the function `eval_mod`, which takes in:\n",
    "- `p`, a `Polynomial` of degree 3 (meaning the polynomial is of the form $a_0 + a_1 x + a_2 x^2 + a_3 x^3$), and\n",
    "- `arr`, an array consisting of evenly-spaced numbers\n",
    "\n",
    "`eval_mod` should return an array that has the same length as `arr`, containing the output of `p` when evaluated on each element of `arr`. Example behavior is shown below.\n",
    "\n",
    "```py\n",
    ">>> p_test = Polynomial([5, -4, 2, -2])\n",
    ">>> arr_test = np.array([-2, 0, 2, 4, 6, 8, 10, 12])\n",
    ">>> eval_mod(p_test, arr_test)\n",
    "array([   37.,     5.,   -11.,  -107.,  -379.,  -923., -1835., -3211.])\n",
    "```\n",
    "\n",
    "To make sure that you understand the above output, let $f(x) = 5 - 4x + 2x^2 - 2x^3$. Then, $f(-2) = 37$, $f(0) = 5$, $f(2) = -11$, and so on.\n",
    "\n",
    "Now, this can be done in just two lines:\n",
    "```py\n",
    "def not_eval_mod(p, arr):\n",
    "    p_f = p.as_function()\n",
    "    return np.array([p_f(x) for x in arr])\n",
    "```\n",
    "\n",
    "However, this involves calling `p_f` once for each element of `arr`, and involves doing many multiplications and exponentiations. The whole goal of the method of finite differences is to compute the necessary outputs while using addition only, to the extent possible.\n",
    "\n",
    "**`eval_mod` should use the method of differences** (after all, that's what \"mod\" stands for). Most of the implementation of `eval_mod` is done for you; much of your job is to understand the steps that have already been completed for you and see how they relate to the steps from lecture. **The amount of code you need to write is ~5 lines.**"
   ]
  },
  {
   "cell_type": "code",
   "execution_count": 8,
   "id": "cfc0ce88",
   "metadata": {},
   "outputs": [],
   "source": [
    "def eval_mod(p, arr):\n",
    "    # Compute the first four outputs manually\n",
    "    p_f = p.as_function()\n",
    "    f0 = p_f(arr[0])\n",
    "    f1 = p_f(arr[1])\n",
    "    f2 = p_f(arr[2])\n",
    "    f3 = p_f(arr[3])\n",
    "    \n",
    "    # Below this line, p_f cannot be used!\n",
    "    initial_values = np.array([f0, f1, f2, f3])\n",
    "    \n",
    "    # Find the first differences\n",
    "    diffs = np.diff(initial_values)\n",
    "    \n",
    "    # Find the second differences\n",
    "    diffs2 = np.diff(diffs)\n",
    "    \n",
    "    # Find the third differences\n",
    "    diffs3 = np.diff(diffs2)\n",
    "    \n",
    "    # Find the first element in each of the differences columns – these are what we need to repeatedly add by\n",
    "    d1 = diffs[0]\n",
    "    d2 = diffs2[0]\n",
    "    d3 = diffs3[0]\n",
    "    \n",
    "    outputs = np.array([]) # Do not change this line\n",
    "    \n",
    "    # YOUR CODE HERE – do not use p_f or .as_function() below!\n",
    "    for _ in np.arange(len(arr)):\n",
    "        outputs = np.append(outputs, f0)\n",
    "        f0 = f0 + d1\n",
    "        d1 = d1 + d2\n",
    "        d2 = d2 + d3\n",
    "    # YOUR CODE HERE\n",
    "    \n",
    "    return outputs"
   ]
  },
  {
   "cell_type": "markdown",
   "id": "1237bbbb",
   "metadata": {},
   "source": [
    "After you've completed `eval_mod`, run the cells below."
   ]
  },
  {
   "cell_type": "code",
   "execution_count": 9,
   "id": "25cdfc36",
   "metadata": {},
   "outputs": [
    {
     "data": {
      "text/plain": [
       "array([   37.,     5.,   -11.,  -107.,  -379.,  -923., -1835., -3211.])"
      ]
     },
     "execution_count": 9,
     "metadata": {},
     "output_type": "execute_result"
    }
   ],
   "source": [
    "p_test = Polynomial([5, -4, 2, -2])\n",
    "arr_test = np.array([-2, 0, 2, 4, 6, 8, 10, 12])\n",
    "eval_mod(p_test, arr_test)"
   ]
  },
  {
   "cell_type": "markdown",
   "id": "12ad9aad",
   "metadata": {},
   "source": [
    "The output above should be the same as the output below (though it is fine if you see trailing `.` signs above):"
   ]
  },
  {
   "cell_type": "code",
   "execution_count": 10,
   "id": "56ba51e5",
   "metadata": {},
   "outputs": [
    {
     "data": {
      "text/plain": [
       "array([   37,     5,   -11,  -107,  -379,  -923, -1835, -3211])"
      ]
     },
     "execution_count": 10,
     "metadata": {},
     "output_type": "execute_result"
    }
   ],
   "source": [
    "np.array([p_test.as_function()(i) for i in arr_test])"
   ]
  },
  {
   "cell_type": "markdown",
   "id": "69ab36b3",
   "metadata": {},
   "source": [
    "Let's look at one more test case:"
   ]
  },
  {
   "cell_type": "code",
   "execution_count": 11,
   "id": "9064df8a",
   "metadata": {},
   "outputs": [
    {
     "data": {
      "text/plain": [
       "array([  1.,   5.,  29.,  91., 209., 401., 685.])"
      ]
     },
     "execution_count": 11,
     "metadata": {},
     "output_type": "execute_result"
    }
   ],
   "source": [
    "p_other = Polynomial([1, 0, 1, 3])\n",
    "arr_other = np.arange(0, 100)\n",
    "output_other = eval_mod(p_other, arr_other)\n",
    "output_other[:7]"
   ]
  },
  {
   "cell_type": "markdown",
   "id": "1d671f12",
   "metadata": {},
   "source": [
    "The outputs you see above should match the outputs you see below:"
   ]
  },
  {
   "cell_type": "code",
   "execution_count": 12,
   "id": "1805e291",
   "metadata": {},
   "outputs": [
    {
     "data": {
      "text/plain": [
       "array([  1,   5,  29,  91, 209, 401, 685])"
      ]
     },
     "execution_count": 12,
     "metadata": {},
     "output_type": "execute_result"
    }
   ],
   "source": [
    "output_other_direct = np.array([p_other.as_function()(i) for i in arr_other])\n",
    "output_other_direct[:7]"
   ]
  },
  {
   "cell_type": "markdown",
   "id": "d1ea9d4a",
   "metadata": {},
   "source": [
    "In addition, the following cell should evaluate to `True`:"
   ]
  },
  {
   "cell_type": "code",
   "execution_count": 13,
   "id": "273fe29d",
   "metadata": {},
   "outputs": [
    {
     "data": {
      "text/plain": [
       "True"
      ]
     },
     "execution_count": 13,
     "metadata": {},
     "output_type": "execute_result"
    }
   ],
   "source": [
    "np.allclose(output_other, output_other_direct)"
   ]
  },
  {
   "cell_type": "markdown",
   "id": "66c43a98",
   "metadata": {},
   "source": [
    "**In your PDF writeup, include a screenshot of all of the code you wrote plus the outputs of all of the above code cells.**"
   ]
  },
  {
   "cell_type": "markdown",
   "id": "d322969b",
   "metadata": {},
   "source": [
    "## Question 2 – Bernoulli Numbers\n",
    "\n",
    "Recall from lecture, Ada Lovelace wrote a program for the Analytical Engine that specified how to compute the sequence of Bernoulli numbers.\n",
    "\n",
    "In this question, you too will write a function that returns the sequence of Bernoulli numbers."
   ]
  },
  {
   "cell_type": "markdown",
   "id": "d74272bd",
   "metadata": {},
   "source": [
    "### Question 2.1\n",
    "\n",
    "The Bernoulli Numbers are a sequence of numbers that are relevant in computing sums of the form $1^m + 2^m + 3^m + ... + n^m$. (They are named for Jakob Bernoulli, the mathematician who also first posed the Law of Large Numbers.) The first few numbers in the sequence are shown below:\n",
    "\n",
    "$$B_0 = 1, B_1 = -\\frac{1}{2}, B_2 = \\frac{1}{6}, B_3 = 0, B_4 = -\\frac{1}{30}, B_5 = 0, B_6 = \\frac{1}{42}, B_7 = 0$$\n",
    "\n",
    "Read Pages 3-7 of [The Bernoulli Numbers: A Brief Primer](https://www.whitman.edu/documents/Academics/Mathematics/2019/Larson-Balof.pdf) to gain an understanding of where the numbers come from.\n",
    "\n",
    "There's nothing to answer in this part of the question, but you **need** to do this reading in order to proceed."
   ]
  },
  {
   "cell_type": "markdown",
   "id": "ec73ea4b",
   "metadata": {},
   "source": [
    "### Question 2.2\n",
    "\n",
    "On Page 10 of the above reading, you'll see a proposition that says that the Bernoulli numbers satisfy the relation\n",
    "\n",
    "$$B_0 = 1 \\text{ and } \\sum_{k=0}^{n-1} {n \\choose k} B_k = 0, \\text{ for } n > 1$$"
   ]
  },
  {
   "cell_type": "markdown",
   "id": "e0c218f9",
   "metadata": {},
   "source": [
    "With a little bit of rearranging, we can use the above relation to express $B_{n-1}$ in terms of the Bernoulli numbers before it, namely $B_0, B_1, B_2, ..., B_{n-2}$:\n",
    "\n",
    "$$\n",
    "\\begin{align*}\n",
    "\\sum_{k=0}^{n-1} {n \\choose k} B_k &= 0 \\\\\n",
    "\\sum_{k=0}^{n-2} {n \\choose k} B_k + {n \\choose n - 1} B_{n-1} &= 0 \\\\\n",
    "{n \\choose n - 1} B_{n-1} &= -\\sum_{k=0}^{n-2} {n \\choose k} B_k \\\\\n",
    "\\implies B_{n-1} &= \\boxed{-\\frac{1}{n}\\sum_{k=0}^{n-2} {n \\choose k} B_k}\n",
    "\\end{align*}\n",
    "$$\n",
    "\n",
    "(If you're not sure how we proceeded from Step 3 to Step 4, recall that ${n \\choose n-1} = n$.)\n",
    "\n",
    "Let's use this **recurrence relation** to find $B_1$ and $B_2$, starting with just $B_0 = 1$.\n",
    "\n",
    "To find $B_1$, $n-1$ must be 1 and so $n$ must be 2:\n",
    "\n",
    "$$B_1 = -\\frac{1}{2}\\sum_{k=0}^{0} {2 \\choose k} B_k = -\\frac{1}{2} {2 \\choose 0} B_0 = -\\frac{1}{2} \\cdot 1 \\cdot 1 = -\\frac{1}{2}$$\n",
    "\n",
    "So $B_1 = -\\frac{1}{2}$. To find $B_2$, $n-1$ must be 2 and so $n$ must be 3:\n",
    "\n",
    "$$B_2 = -\\frac{1}{3} \\sum_{k = 0}^1 {3 \\choose k} B_k = -\\frac{1}{3} \\left[ {3 \\choose 0} B_0 + {3 \\choose 1} B_1 \\right] = -\\frac{1}{3} \\left[ 1 - 3 \\cdot \\frac{1}{2} \\right] = \\frac{1}{6}$$\n",
    "\n",
    "So $B_2 = \\frac{1}{6}$."
   ]
  },
  {
   "cell_type": "markdown",
   "id": "50a921dc",
   "metadata": {},
   "source": [
    "Note that in the calculation of $B_2$, we used the values of $B_0$ and $B_1$ that we found earlier.\n",
    "\n",
    "**Your Job:** Complete the implementation of the function `bernoulli_sequence(N)`, which takes in an integer `N` and returns an array containing first `N+1` Bernoulli numbers (i.e. $B_0, B_1, B_2, ..., B_N$).\n",
    "\n",
    "Some guidance:\n",
    "- While it is technically possible to accomplish this by creating a recursive helper function, we highly advise against it, as it will lead to many unnecessary computations. Instead, a good strategy is to keep track of all of the Bernoulli numbers computed so far in an array `nums` that you can always refer back to.\n",
    "- You'll need a nested `for`-loop. Choose the ranges for your `for`-loops very carefully. (What was the smallest value of $n$ that we looked at above? For each $n$, what values of $k$ did we look at above?)\n",
    "- Recall from Homework 5, `comb(n, k)` evaluates ${n \\choose k}$. We've already run `from scipy.special import comb` for you, so you can (and will need to) use the `comb` function in your code."
   ]
  },
  {
   "cell_type": "code",
   "execution_count": 14,
   "id": "1a53e465",
   "metadata": {},
   "outputs": [],
   "source": [
    "def bernoulli_sequence(N):\n",
    "    nums = np.array([1]) # Since B_0 = 1\n",
    "    # YOUR CODE HERE\n",
    "    for n in np.arange(2, N + 2):\n",
    "        total = 0\n",
    "        for k in np.arange(0, n - 1):\n",
    "            total += comb(n, k) * nums[k]\n",
    "        total *= -1 / n\n",
    "        nums = np.append(nums, total)\n",
    "    # YOUR CODE HERE\n",
    "    return nums"
   ]
  },
  {
   "cell_type": "markdown",
   "id": "e2ed4f18",
   "metadata": {},
   "source": [
    "After you've completed `bernoulli_sequence`, run the cells below."
   ]
  },
  {
   "cell_type": "code",
   "execution_count": 15,
   "id": "d54de193",
   "metadata": {},
   "outputs": [
    {
     "name": "stdout",
     "output_type": "stream",
     "text": [
      "B_0 = 1.0\n",
      "B_1 = -0.5\n",
      "B_2 = 0.166667\n",
      "B_3 = -0.0\n",
      "B_4 = -0.033333\n",
      "B_5 = -0.0\n",
      "B_6 = 0.02381\n",
      "B_7 = 0.0\n",
      "B_8 = -0.033333\n",
      "B_9 = 0.0\n",
      "B_10 = 0.075758\n",
      "B_11 = -0.0\n",
      "B_12 = -0.253114\n",
      "B_13 = 0.0\n",
      "B_14 = 1.166667\n",
      "B_15 = -0.0\n",
      "B_16 = -7.092157\n",
      "B_17 = -0.0\n",
      "B_18 = 54.971178\n"
     ]
    }
   ],
   "source": [
    "bernoulli_19 = bernoulli_sequence(18)\n",
    "for i, b in enumerate(bernoulli_19):\n",
    "    print(f'B_{i} = {np.round(b, 6)}')"
   ]
  },
  {
   "cell_type": "markdown",
   "id": "1ebd519f",
   "metadata": {},
   "source": [
    "The values you see above should match the values on Page 9 of [the above document](https://www.whitman.edu/documents/Academics/Mathematics/2019/Larson-Balof.pdf). The following cell should evaluate to `True`."
   ]
  },
  {
   "cell_type": "code",
   "execution_count": 16,
   "id": "e0bc59e2",
   "metadata": {},
   "outputs": [
    {
     "data": {
      "text/plain": [
       "True"
      ]
     },
     "execution_count": 16,
     "metadata": {},
     "output_type": "execute_result"
    }
   ],
   "source": [
    "correct_19 = np.array([1, -1/2, 1/6, 0, -1/30, 0, 1/42, 0, -1/30, 0, 5/66, 0, \n",
    "                       -691/2730, 0, 7/6, 0, -3617/510, 0, 43867/798])\n",
    "\n",
    "np.allclose(bernoulli_19, correct_19)"
   ]
  },
  {
   "cell_type": "markdown",
   "id": "f0ca2839",
   "metadata": {},
   "source": [
    "**In your PDF writeup, include a screenshot of all of the code you wrote plus the outputs of all of the above code cells.**"
   ]
  },
  {
   "cell_type": "markdown",
   "id": "fdbcf9da",
   "metadata": {},
   "source": [
    "### Question 2.3\n",
    "\n",
    "Page 7 of [the aforementioned document](https://www.whitman.edu/documents/Academics/Mathematics/2019/Larson-Balof.pdf) contains the following formula:\n",
    "\n",
    "$$S_m(n-1) = \\frac{1}{m+1} \\sum_{k=0}^m {m + 1 \\choose k} B_k n^{m - k + 1}$$\n",
    "\n",
    "Note that $S_m(n-1)$ means $1^m + 2^m + 3^m + ... + (n-1)^m$.\n",
    "\n",
    "Below, complete the implementation of the function `sum_with_bernoulli`, which takes in a value of `m` and a value of `n` and returns the value of the sum $1^m + 2^m + 3^m + ... + (n-1)^m + n^m$ using the above formula.\n",
    "\n",
    "Some guidance:\n",
    "- Your function should include $n^m$, it should not stop at $(n-1)^m$. (One way to do this is to replace the $n$ on the right side of the above equation with $n+1$.)\n",
    "- You will have to call `bernoulli_sequence` in your implementation."
   ]
  },
  {
   "cell_type": "code",
   "execution_count": 17,
   "id": "d2fde9fc",
   "metadata": {},
   "outputs": [],
   "source": [
    "def sum_with_bernoulli(m, n):\n",
    "    # YOUR CODE HERE\n",
    "    nums = bernoulli_sequence(m)\n",
    "    total = 0\n",
    "    for k in range(m + 1):\n",
    "        total += comb(m + 1, k) * nums[k] * ((n + 1) ** (m - k + 1))\n",
    "    return total / (m + 1)\n",
    "    # YOUR CODE HERE"
   ]
  },
  {
   "cell_type": "markdown",
   "id": "1952be9f",
   "metadata": {},
   "source": [
    "After you've completed `sum_with_bernoulli`, run the cells below."
   ]
  },
  {
   "cell_type": "code",
   "execution_count": 18,
   "id": "359accd3",
   "metadata": {},
   "outputs": [
    {
     "data": {
      "text/plain": [
       "5050.0"
      ]
     },
     "execution_count": 18,
     "metadata": {},
     "output_type": "execute_result"
    }
   ],
   "source": [
    "# Should evaluate to 5050\n",
    "sum_with_bernoulli(1, 100)"
   ]
  },
  {
   "cell_type": "code",
   "execution_count": 19,
   "id": "258d7806",
   "metadata": {},
   "outputs": [
    {
     "data": {
      "text/plain": [
       "42925.0"
      ]
     },
     "execution_count": 19,
     "metadata": {},
     "output_type": "execute_result"
    }
   ],
   "source": [
    "# Should evaluate to 42925\n",
    "sum_with_bernoulli(2, 50)"
   ]
  },
  {
   "cell_type": "code",
   "execution_count": 20,
   "id": "1bd5881b",
   "metadata": {},
   "outputs": [
    {
     "data": {
      "text/plain": [
       "25502500.0"
      ]
     },
     "execution_count": 20,
     "metadata": {},
     "output_type": "execute_result"
    }
   ],
   "source": [
    "# Should evaluate to 5050^2 = 25502500\n",
    "sum_with_bernoulli(3, 100)"
   ]
  },
  {
   "cell_type": "markdown",
   "id": "5a5a0f84",
   "metadata": {},
   "source": [
    "To help test out your function's behavior on more examples, we've defined `sum_direct`, which takes in the same arguments as `sum_with_bernoulli` and returns the same result, but without using Bernoulli numbers.\n",
    "\n",
    "(If your `sum_with_bernoulli` looks like `sum_direct` below, you didn't implement it correctly – `sum_with_bernoulli` **must** involve the Bernoulli numbers, and will involve a `for`-loop!)"
   ]
  },
  {
   "cell_type": "code",
   "execution_count": 21,
   "id": "690c6606",
   "metadata": {},
   "outputs": [],
   "source": [
    "def sum_direct(m, n):\n",
    "    return np.sum(np.arange(1, n + 1) ** m)"
   ]
  },
  {
   "cell_type": "markdown",
   "id": "34aba69c",
   "metadata": {},
   "source": [
    "Repeatedly change `m` and `n` below and run the cell. You should always see `True`, as long as `m` and `n` are relatively small (for larger `m` and `n`, numerical imprecision issues may cause `bernoulli_sequence` and hence `sum_with_bernoulli` to yield incorrect answers)."
   ]
  },
  {
   "cell_type": "code",
   "execution_count": 22,
   "id": "db2e340c",
   "metadata": {},
   "outputs": [
    {
     "data": {
      "text/plain": [
       "True"
      ]
     },
     "execution_count": 22,
     "metadata": {},
     "output_type": "execute_result"
    }
   ],
   "source": [
    "m, n = 5, 45\n",
    "np.isclose(sum_with_bernoulli(m, n), sum_direct(m, n))"
   ]
  },
  {
   "cell_type": "markdown",
   "id": "6bec12c5",
   "metadata": {},
   "source": [
    "**In your PDF writeup, include a screenshot of all of the code you wrote plus the outputs of all of the above code cells.**"
   ]
  },
  {
   "cell_type": "markdown",
   "id": "c0eff6a3",
   "metadata": {},
   "source": [
    "## Question 3 – Makeup Question\n",
    "\n",
    "If you:\n",
    "- didn't originally answer Question 3 on Homework 5 (the optional make-up problem), **and**\n",
    "- you've missed a lecture or didn't receive full credit on an earlier homework, \n",
    "\n",
    "you can answer Question 3 from Homework 5 and it will \"make up\" a missed lecture or homework. Note that this is separate from Question 2.3 above – if you answer both, you can make up 2 missed lectures or homeworks.\n",
    "\n",
    "(Submit it as the answer to Question 3 for this homework.)\n",
    "\n",
    "Homework 5 can be found [here](https://historyofdsc.com/resources/weeks/week05/)."
   ]
  }
 ],
 "metadata": {
  "kernelspec": {
   "display_name": "Python 3 (ipykernel)",
   "language": "python",
   "name": "python3"
  },
  "language_info": {
   "codemirror_mode": {
    "name": "ipython",
    "version": 3
   },
   "file_extension": ".py",
   "mimetype": "text/x-python",
   "name": "python",
   "nbconvert_exporter": "python",
   "pygments_lexer": "ipython3",
   "version": "3.9.7"
  }
 },
 "nbformat": 4,
 "nbformat_minor": 5
}
